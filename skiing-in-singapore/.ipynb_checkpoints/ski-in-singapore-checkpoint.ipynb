{
 "cells": [
  {
   "cell_type": "markdown",
   "metadata": {},
   "source": [
    "# Skiing-in-singapore\n",
    "http://geeks.redmart.com/2015/01/07/skiing-in-singapore-a-coding-diversion/"
   ]
  },
  {
   "cell_type": "markdown",
   "metadata": {},
   "source": []
  },
  {
   "cell_type": "code",
   "execution_count": 1,
   "metadata": {
    "collapsed": true
   },
   "outputs": [],
   "source": [
    "PATH = \"./map.txt\"\n",
    "map_file = open(PATH, 'r')"
   ]
  },
  {
   "cell_type": "code",
   "execution_count": 2,
   "metadata": {},
   "outputs": [],
   "source": [
    "lines = map_file.readlines()"
   ]
  },
  {
   "cell_type": "code",
   "execution_count": 3,
   "metadata": {},
   "outputs": [
    {
     "data": {
      "text/plain": [
       "1000"
      ]
     },
     "execution_count": 3,
     "metadata": {},
     "output_type": "execute_result"
    }
   ],
   "source": [
    "row, column = map(lambda a: int(a), lines[0].split(\" \"))\n",
    "row"
   ]
  },
  {
   "cell_type": "code",
   "execution_count": 4,
   "metadata": {},
   "outputs": [],
   "source": [
    "map_matrix = [list(map(lambda a: int(a), line.split(\" \"))) for line in lines[1:]]"
   ]
  },
  {
   "cell_type": "code",
   "execution_count": 5,
   "metadata": {
    "collapsed": true
   },
   "outputs": [],
   "source": [
    "def check_higher(row, column):\n",
    "    target = map_matrix[row][column]\n",
    "    result_list = []\n",
    "    if row > 0 and map_matrix[row - 1][column] > target:\n",
    "        result_list.append((row - 1, column))\n",
    "    if row < 999 and map_matrix[row + 1][column] > target:\n",
    "        result_list.append((row + 1, column))\n",
    "    if column > 0 and map_matrix[row][column - 1] > target:\n",
    "        result_list.append((row, column - 1))\n",
    "    if column < 999 and map_matrix[row][column + 1] > target:\n",
    "        result_list.append((row, column + 1))\n",
    "    return result_list"
   ]
  },
  {
   "cell_type": "code",
   "execution_count": 6,
   "metadata": {},
   "outputs": [
    {
     "data": {
      "text/plain": [
       "[(998, 669), (999, 668), (999, 670)]"
      ]
     },
     "execution_count": 6,
     "metadata": {},
     "output_type": "execute_result"
    }
   ],
   "source": [
    "check_higher(999, 669)"
   ]
  },
  {
   "cell_type": "code",
   "execution_count": 7,
   "metadata": {},
   "outputs": [],
   "source": [
    "result_list = []\n",
    "def recur_check_higher(history_list):\n",
    "    highers = check_higher(*history_list[-1])\n",
    "    if len(highers) == 0:\n",
    "        result_list.append(history_list)\n",
    "    else:\n",
    "        for higher in highers:\n",
    "            recur_check_higher(history_list + [higher])"
   ]
  },
  {
   "cell_type": "code",
   "execution_count": 9,
   "metadata": {},
   "outputs": [
    {
     "name": "stdout",
     "output_type": "stream",
     "text": [
      "(0, 0)\n",
      "(0, 500)\n",
      "(200, 0)\n",
      "(200, 500)\n",
      "(400, 0)\n",
      "(400, 500)\n",
      "(600, 0)\n",
      "(600, 500)\n",
      "(800, 0)\n",
      "(800, 500)\n"
     ]
    }
   ],
   "source": [
    "result_list.clear()\n",
    "\n",
    "from itertools import product\n",
    "for x, y in product(range(1000), range(1000)):\n",
    "    if x % 200 == 0 and y % 500 == 0:\n",
    "        print(\"({}, {})\".format(x, y))\n",
    "    for item in check_higher(x, y):\n",
    "        recur_check_higher([(x, y), item])"
   ]
  },
  {
   "cell_type": "code",
   "execution_count": 10,
   "metadata": {},
   "outputs": [],
   "source": [
    "result_list = sorted(result_list, key=lambda x: len(x), reverse=True)"
   ]
  },
  {
   "cell_type": "code",
   "execution_count": 11,
   "metadata": {},
   "outputs": [
    {
     "data": {
      "text/plain": [
       "[[(161, 397),\n",
       "  (162, 397),\n",
       "  (162, 396),\n",
       "  (162, 395),\n",
       "  (162, 394),\n",
       "  (161, 394),\n",
       "  (160, 394),\n",
       "  (160, 393),\n",
       "  (159, 393),\n",
       "  (159, 394),\n",
       "  (159, 395),\n",
       "  (159, 396),\n",
       "  (160, 396),\n",
       "  (161, 396),\n",
       "  (161, 395)],\n",
       " [(161, 397),\n",
       "  (162, 397),\n",
       "  (162, 396),\n",
       "  (162, 395),\n",
       "  (162, 394),\n",
       "  (161, 394),\n",
       "  (161, 393),\n",
       "  (160, 393),\n",
       "  (159, 393),\n",
       "  (159, 394),\n",
       "  (159, 395),\n",
       "  (159, 396),\n",
       "  (160, 396),\n",
       "  (161, 396),\n",
       "  (161, 395)]]"
      ]
     },
     "execution_count": 11,
     "metadata": {},
     "output_type": "execute_result"
    }
   ],
   "source": [
    "result_list[:2]"
   ]
  },
  {
   "cell_type": "code",
   "execution_count": 22,
   "metadata": {},
   "outputs": [
    {
     "data": {
      "text/plain": [
       "Counter({2: 799597,\n",
       "         3: 998205,\n",
       "         4: 883422,\n",
       "         5: 529546,\n",
       "         6: 268238,\n",
       "         7: 109527,\n",
       "         8: 39282,\n",
       "         9: 12584,\n",
       "         10: 3526,\n",
       "         11: 956,\n",
       "         12: 236,\n",
       "         13: 42,\n",
       "         14: 15,\n",
       "         15: 5})"
      ]
     },
     "execution_count": 22,
     "metadata": {},
     "output_type": "execute_result"
    }
   ],
   "source": [
    "from collections import Counter\n",
    "Counter(list(map(lambda x: len(x), result_list)))"
   ]
  },
  {
   "cell_type": "code",
   "execution_count": 13,
   "metadata": {},
   "outputs": [
    {
     "name": "stdout",
     "output_type": "stream",
     "text": [
      "0\t47\t47\t47\t16\n",
      "143\t56\t56\t56\t143\n",
      "214\t67\t67\t67\t214\n",
      "310\t71\t71\t71\t310\n",
      "332\t76\t76\t76\t332\n",
      "429\t126\t126\t273\t429\n",
      "734\t355\t323\t323\t734\n",
      "945\t516\t516\t516\t945\n",
      "965\t527\t527\t527\t965\n",
      "1162\t820\t820\t820\t1162\n",
      "1207\t848\t848\t848\t1207\n",
      "1304\t915\t915\t915\t1304\n",
      "1316\t932\t932\t932\t1316\n",
      "1412\t1078\t1078\t1078\t1412\n",
      "1422\t1466\t1466\t1466\t1422\n"
     ]
    }
   ],
   "source": [
    "result_height_list = sorted(\n",
    "    [list(map(lambda x: map_matrix[x[0]][x[1]], row)) for row in result_list[:5]], \n",
    "    key=lambda x: x[-1] - x[0], \n",
    "    reverse=True\n",
    ")\n",
    "# result_height_list\n",
    "for a, b, c, d, f in zip(*result_height_list):\n",
    "    print(\"{}\\t{}\\t{}\\t{}\\t{}\".format(a, b, c, d, f))"
   ]
  },
  {
   "cell_type": "code",
   "execution_count": 14,
   "metadata": {},
   "outputs": [
    {
     "name": "stdout",
     "output_type": "stream",
     "text": [
      "151279\n"
     ]
    }
   ],
   "source": [
    "print(\"{length}{drop}\".format(\n",
    "    length=len(result_height_list[0]), \n",
    "    drop=result_height_list[0][-1] - result_height_list[0][1]\n",
    "))"
   ]
  }
 ],
 "metadata": {
  "kernelspec": {
   "display_name": "Python 3",
   "language": "python",
   "name": "python3"
  },
  "language_info": {
   "codemirror_mode": {
    "name": "ipython",
    "version": 3
   },
   "file_extension": ".py",
   "mimetype": "text/x-python",
   "name": "python",
   "nbconvert_exporter": "python",
   "pygments_lexer": "ipython3",
   "version": "3.6.1"
  }
 },
 "nbformat": 4,
 "nbformat_minor": 2
}
